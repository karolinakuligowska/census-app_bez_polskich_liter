{
  "nbformat": 4,
  "nbformat_minor": 0,
  "metadata": {
    "colab": {
      "name": "KK_TMSMM_class_2_DONE.ipynb",
      "provenance": [],
      "collapsed_sections": [],
      "toc_visible": true,
      "authorship_tag": "ABX9TyMzMbHXD76JmJckV0+6zPzn",
      "include_colab_link": true
    },
    "kernelspec": {
      "name": "python3",
      "display_name": "Python 3"
    },
    "language_info": {
      "name": "python"
    }
  },
  "cells": [
    {
      "cell_type": "markdown",
      "metadata": {
        "id": "view-in-github",
        "colab_type": "text"
      },
      "source": [
        "<a href=\"https://colab.research.google.com/github/karolinakuligowska/census-app_bez_polskich_liter/blob/main/KK_TMSMM_class_2_DONE.ipynb\" target=\"_parent\"><img src=\"https://colab.research.google.com/assets/colab-badge.svg\" alt=\"Open In Colab\"/></a>"
      ]
    },
    {
      "cell_type": "markdown",
      "metadata": {
        "id": "fTCdE71GebYw"
      },
      "source": [
        "# NLP - Text Parsing, Stemming, Stopword removal, Term Frequency Matrix"
      ]
    },
    {
      "cell_type": "code",
      "metadata": {
        "id": "B5PnpJ38amUX"
      },
      "source": [
        "# load packages\n",
        "\n",
        "import re\n",
        "import string\n",
        "import pandas as pd\n",
        "import os\n",
        "import nltk"
      ],
      "execution_count": 1,
      "outputs": []
    },
    {
      "cell_type": "code",
      "metadata": {
        "colab": {
          "base_uri": "https://localhost:8080/"
        },
        "id": "sOy2KwIMa6wg",
        "outputId": "9f90a2af-28c9-4531-ad75-c57eb5bf72c3"
      },
      "source": [
        "import nltk.corpus\n",
        "from nltk.corpus.reader.plaintext import PlaintextCorpusReader\n",
        "from nltk.corpus import stopwords \n",
        "nltk.download('stopwords')\n",
        "from nltk.tokenize import word_tokenize"
      ],
      "execution_count": 2,
      "outputs": [
        {
          "output_type": "stream",
          "name": "stdout",
          "text": [
            "[nltk_data] Downloading package stopwords to /root/nltk_data...\n",
            "[nltk_data]   Unzipping corpora/stopwords.zip.\n"
          ]
        }
      ]
    },
    {
      "cell_type": "code",
      "metadata": {
        "colab": {
          "base_uri": "https://localhost:8080/"
        },
        "id": "Wzc6E33mbQUC",
        "outputId": "8e6bc79a-ced0-4e17-b902-d472ac8e7582"
      },
      "source": [
        "nltk.download('punkt')\n",
        "\n",
        "from nltk.stem import PorterStemmer \n",
        "from nltk.tokenize import word_tokenize "
      ],
      "execution_count": 3,
      "outputs": [
        {
          "output_type": "stream",
          "name": "stdout",
          "text": [
            "[nltk_data] Downloading package punkt to /root/nltk_data...\n",
            "[nltk_data]   Unzipping tokenizers/punkt.zip.\n"
          ]
        }
      ]
    },
    {
      "cell_type": "code",
      "metadata": {
        "id": "EvW3pweNbZXR"
      },
      "source": [
        "# read a file MLK_speech.txt\n",
        "text=\"/@@@111Faculty      of Economic Sciences,,,, as an independent unit of the University of Warsaw, affirms its commitment to basic goals and values specified in the Mission Statement of the University of Warsaw. In regard to the way in which the mission of our Alma Mater refers to the discipline represented by the Faculty of Economic Sciences, we define the following goal and value as our priorities of special importance: unity of research and teaching is the foundation of the activities at the Faculty of Economic Sciences.\"\n"
      ],
      "execution_count": 11,
      "outputs": []
    },
    {
      "cell_type": "code",
      "metadata": {
        "colab": {
          "base_uri": "https://localhost:8080/"
        },
        "id": "_1PEjYNUbqCM",
        "outputId": "f5c12d6b-c9e4-4bd4-8e46-cfb0436e5a67"
      },
      "source": [
        "print(text)"
      ],
      "execution_count": 12,
      "outputs": [
        {
          "output_type": "stream",
          "name": "stdout",
          "text": [
            "/@@@111Faculty      of Economic Sciences,,,, as an independent unit of the University of Warsaw, affirms its commitment to basic goals and values specified in the Mission Statement of the University of Warsaw. In regard to the way in which the mission of our Alma Mater refers to the discipline represented by the Faculty of Economic Sciences, we define the following goal and value as our priorities of special importance: unity of research and teaching is the foundation of the activities at the Faculty of Economic Sciences.\n"
          ]
        }
      ]
    },
    {
      "cell_type": "markdown",
      "metadata": {
        "id": "PuwfAYWIbxyp"
      },
      "source": [
        "# Text parsing \n",
        "--------------------------\n"
      ]
    },
    {
      "cell_type": "markdown",
      "metadata": {
        "id": "PlWsTnBte6LF"
      },
      "source": [
        "# Preliminary cleaning"
      ]
    },
    {
      "cell_type": "code",
      "metadata": {
        "colab": {
          "base_uri": "https://localhost:8080/"
        },
        "id": "-Ku784HPcGWA",
        "outputId": "62034dd9-65f4-47fe-c9ed-6d54105b7619"
      },
      "source": [
        "# replace special characters from text. \n",
        "# substituting \"/\", \"@\" and \"|\" and others by a space.\n",
        "text_clean = re.sub('[^a-zA-Z0-9 \\n\\.]', '', text)\n",
        "print(text_clean)"
      ],
      "execution_count": 13,
      "outputs": [
        {
          "output_type": "stream",
          "name": "stdout",
          "text": [
            "111Faculty      of Economic Sciences as an independent unit of the University of Warsaw affirms its commitment to basic goals and values specified in the Mission Statement of the University of Warsaw. In regard to the way in which the mission of our Alma Mater refers to the discipline represented by the Faculty of Economic Sciences we define the following goal and value as our priorities of special importance unity of research and teaching is the foundation of the activities at the Faculty of Economic Sciences.\n"
          ]
        }
      ]
    },
    {
      "cell_type": "markdown",
      "metadata": {
        "id": "zjSB0a6ScXQK"
      },
      "source": [
        "# Cleaning text\n"
      ]
    },
    {
      "cell_type": "code",
      "metadata": {
        "id": "4usbGgpAcS_n"
      },
      "source": [
        "# a) to remove unnecessary spaces, punctuation and numbers\n",
        "\n",
        "# remove unnecessary spaces\n",
        "text_cleaner = re.sub(' +', ' ', text_clean)\n",
        "\n",
        "# remove unnecessary punctuation - already done above using regex, you may try to define punctuation manually\n",
        "text_cleaner = re.sub(r'[^\\w\\s]','', text_cleaner)"
      ],
      "execution_count": 14,
      "outputs": []
    },
    {
      "cell_type": "code",
      "metadata": {
        "colab": {
          "base_uri": "https://localhost:8080/"
        },
        "id": "e4hL1BoVc1JA",
        "outputId": "b09fe03e-e452-4ae3-806e-af4c662b6e2b"
      },
      "source": [
        "# remove unnecessary numbers\n",
        "text_cleaner = re.sub('\\d', '', text_cleaner)\n",
        "\n",
        "# remove unnecessary spaces once again\n",
        "text_cleaner = re.sub(' +', ' ', text_cleaner)\n",
        "print(text_cleaner)"
      ],
      "execution_count": 15,
      "outputs": [
        {
          "output_type": "stream",
          "name": "stdout",
          "text": [
            "Faculty of Economic Sciences as an independent unit of the University of Warsaw affirms its commitment to basic goals and values specified in the Mission Statement of the University of Warsaw In regard to the way in which the mission of our Alma Mater refers to the discipline represented by the Faculty of Economic Sciences we define the following goal and value as our priorities of special importance unity of research and teaching is the foundation of the activities at the Faculty of Economic Sciences\n"
          ]
        }
      ]
    },
    {
      "cell_type": "code",
      "metadata": {
        "colab": {
          "base_uri": "https://localhost:8080/"
        },
        "id": "7CiZgcL6c8lq",
        "outputId": "00a69167-7952-4e78-f707-1ad1e386d61a"
      },
      "source": [
        "# b) change letters to lower case\n",
        "\n",
        "text_cleaner = text_cleaner.lower()\n",
        "\n",
        "# change to lowercase\n",
        "print(text_cleaner.lower())"
      ],
      "execution_count": 16,
      "outputs": [
        {
          "output_type": "stream",
          "name": "stdout",
          "text": [
            "faculty of economic sciences as an independent unit of the university of warsaw affirms its commitment to basic goals and values specified in the mission statement of the university of warsaw in regard to the way in which the mission of our alma mater refers to the discipline represented by the faculty of economic sciences we define the following goal and value as our priorities of special importance unity of research and teaching is the foundation of the activities at the faculty of economic sciences\n"
          ]
        }
      ]
    },
    {
      "cell_type": "markdown",
      "metadata": {
        "id": "4m80_d6Be5D7"
      },
      "source": [
        "# Tokenization"
      ]
    },
    {
      "cell_type": "code",
      "metadata": {
        "colab": {
          "base_uri": "https://localhost:8080/"
        },
        "id": "44Jt2j6IfCIN",
        "outputId": "f97dbeff-7f78-41d7-b0f2-3f3afa8f5d9a"
      },
      "source": [
        "word_tokens = word_tokenize(text_cleaner)\n",
        "\n",
        "print(word_tokens)"
      ],
      "execution_count": 22,
      "outputs": [
        {
          "output_type": "stream",
          "name": "stdout",
          "text": [
            "['faculty', 'of', 'economic', 'sciences', 'as', 'an', 'independent', 'unit', 'of', 'the', 'university', 'of', 'warsaw', 'affirms', 'its', 'commitment', 'to', 'basic', 'goals', 'and', 'values', 'specified', 'in', 'the', 'mission', 'statement', 'of', 'the', 'university', 'of', 'warsaw', 'in', 'regard', 'to', 'the', 'way', 'in', 'which', 'the', 'mission', 'of', 'our', 'alma', 'mater', 'refers', 'to', 'the', 'discipline', 'represented', 'by', 'the', 'faculty', 'of', 'economic', 'sciences', 'we', 'define', 'the', 'following', 'goal', 'and', 'value', 'as', 'our', 'priorities', 'of', 'special', 'importance', 'unity', 'of', 'research', 'and', 'teaching', 'is', 'the', 'foundation', 'of', 'the', 'activities', 'at', 'the', 'faculty', 'of', 'economic', 'sciences']\n"
          ]
        }
      ]
    },
    {
      "cell_type": "markdown",
      "metadata": {
        "id": "kuLT44bRfEox"
      },
      "source": [
        "# Stopword removal "
      ]
    },
    {
      "cell_type": "code",
      "metadata": {
        "id": "czn4zFZwfG9a"
      },
      "source": [
        "# remove English stopwords\n",
        "stop_words = set(stopwords.words('english')) \n",
        " \n",
        "filtered_text = [w for w in word_tokens if not w in stop_words] \n",
        "filtered_text = [] \n",
        "  \n",
        "for w in word_tokens: \n",
        "    if w not in stop_words: \n",
        "        filtered_text.append(w) "
      ],
      "execution_count": 23,
      "outputs": []
    },
    {
      "cell_type": "code",
      "metadata": {
        "colab": {
          "base_uri": "https://localhost:8080/"
        },
        "id": "jdK0_5IEffsC",
        "outputId": "9c9383aa-b857-489a-905a-a294f751ceed"
      },
      "source": [
        "print(filtered_text) "
      ],
      "execution_count": 24,
      "outputs": [
        {
          "output_type": "stream",
          "name": "stdout",
          "text": [
            "['faculty', 'economic', 'sciences', 'independent', 'unit', 'university', 'warsaw', 'affirms', 'commitment', 'basic', 'goals', 'values', 'specified', 'mission', 'statement', 'university', 'warsaw', 'regard', 'way', 'mission', 'alma', 'mater', 'refers', 'discipline', 'represented', 'faculty', 'economic', 'sciences', 'define', 'following', 'goal', 'value', 'priorities', 'special', 'importance', 'unity', 'research', 'teaching', 'foundation', 'activities', 'faculty', 'economic', 'sciences']\n"
          ]
        }
      ]
    },
    {
      "cell_type": "code",
      "metadata": {
        "id": "7-44ArQhgDv-"
      },
      "source": [
        "# if necessaary: remove your own stopwords - as a vector of words:\n",
        "stop_words_lst = ['a', 'sciences', 'unit', 'affirms', 'basic']\n",
        "\n",
        "\n",
        "filtered_text2 = [w for w in filtered_text if not w in stop_words_lst] \n",
        "filtered_text2 = [] \n",
        "  \n",
        "for w in filtered_text: \n",
        "    if w not in stop_words_lst: \n",
        "        filtered_text2.append(w) \n"
      ],
      "execution_count": 31,
      "outputs": []
    },
    {
      "cell_type": "code",
      "metadata": {
        "colab": {
          "base_uri": "https://localhost:8080/"
        },
        "id": "Y_HqnlbUgoS9",
        "outputId": "b55e1a30-a3d6-44e1-c44a-00f85d06eb5a"
      },
      "source": [
        "print(filtered_text2)"
      ],
      "execution_count": 32,
      "outputs": [
        {
          "output_type": "stream",
          "name": "stdout",
          "text": [
            "['faculty', 'economic', 'independent', 'university', 'warsaw', 'commitment', 'goals', 'values', 'specified', 'mission', 'statement', 'university', 'warsaw', 'regard', 'way', 'mission', 'alma', 'mater', 'refers', 'discipline', 'represented', 'faculty', 'economic', 'define', 'following', 'goal', 'value', 'priorities', 'special', 'importance', 'unity', 'research', 'teaching', 'foundation', 'activities', 'faculty', 'economic']\n"
          ]
        }
      ]
    },
    {
      "cell_type": "markdown",
      "metadata": {
        "id": "3ioMqvJUgfk0"
      },
      "source": [
        "# Stemming "
      ]
    },
    {
      "cell_type": "code",
      "metadata": {
        "colab": {
          "base_uri": "https://localhost:8080/"
        },
        "id": "-IgCzxUJggOe",
        "outputId": "c8554842-860a-4d1a-c4fe-9137576fad02"
      },
      "source": [
        "# Stemming reduces words to their root form\n",
        "# For example, the reduction of words \"move\", \"moved\" \n",
        "# and \"movement\" to the core \"move\".\n",
        "\n",
        "# stem document\n",
        "ps = PorterStemmer() \n",
        "   \n",
        "   \n",
        "for w in filtered_text2: \n",
        "    print(w, \" : \", ps.stem(w)) "
      ],
      "execution_count": 34,
      "outputs": [
        {
          "output_type": "stream",
          "name": "stdout",
          "text": [
            "faculty  :  faculti\n",
            "economic  :  econom\n",
            "independent  :  independ\n",
            "university  :  univers\n",
            "warsaw  :  warsaw\n",
            "commitment  :  commit\n",
            "goals  :  goal\n",
            "values  :  valu\n",
            "specified  :  specifi\n",
            "mission  :  mission\n",
            "statement  :  statement\n",
            "university  :  univers\n",
            "warsaw  :  warsaw\n",
            "regard  :  regard\n",
            "way  :  way\n",
            "mission  :  mission\n",
            "alma  :  alma\n",
            "mater  :  mater\n",
            "refers  :  refer\n",
            "discipline  :  disciplin\n",
            "represented  :  repres\n",
            "faculty  :  faculti\n",
            "economic  :  econom\n",
            "define  :  defin\n",
            "following  :  follow\n",
            "goal  :  goal\n",
            "value  :  valu\n",
            "priorities  :  prioriti\n",
            "special  :  special\n",
            "importance  :  import\n",
            "unity  :  uniti\n",
            "research  :  research\n",
            "teaching  :  teach\n",
            "foundation  :  foundat\n",
            "activities  :  activ\n",
            "faculty  :  faculti\n",
            "economic  :  econom\n"
          ]
        }
      ]
    },
    {
      "cell_type": "markdown",
      "metadata": {
        "id": "keSM9V3Ahq4V"
      },
      "source": [
        "# Term Frequency Matrix"
      ]
    },
    {
      "cell_type": "code",
      "metadata": {
        "colab": {
          "base_uri": "https://localhost:8080/"
        },
        "id": "e4hye3_ThtS6",
        "outputId": "0b6d2653-abfd-45e5-ef21-4d49e3a3483e"
      },
      "source": [
        "# Term frequency matrix\n",
        "\n",
        "wordlist = filtered_text2\n",
        "\n",
        "\n",
        "wordfreq = []\n",
        "for w in wordlist:\n",
        "    wordfreq.append(wordlist.count(w))\n",
        "\n",
        "print(\"Original string\\n\" + text_cleaner +\"\\n\")\n",
        "print(\"List\\n\" + str(wordlist) + \"\\n\")\n",
        "print(\"Frequencies\\n\" + str(wordfreq) + \"\\n\")\n",
        "print(\"Pairs\\n\" + str(list(zip(wordlist, wordfreq))))"
      ],
      "execution_count": 42,
      "outputs": [
        {
          "output_type": "stream",
          "name": "stdout",
          "text": [
            "String\n",
            "faculty of economic sciences as an independent unit of the university of warsaw affirms its commitment to basic goals and values specified in the mission statement of the university of warsaw in regard to the way in which the mission of our alma mater refers to the discipline represented by the faculty of economic sciences we define the following goal and value as our priorities of special importance unity of research and teaching is the foundation of the activities at the faculty of economic sciences\n",
            "\n",
            "List\n",
            "['faculty', 'economic', 'independent', 'university', 'warsaw', 'commitment', 'goals', 'values', 'specified', 'mission', 'statement', 'university', 'warsaw', 'regard', 'way', 'mission', 'alma', 'mater', 'refers', 'discipline', 'represented', 'faculty', 'economic', 'define', 'following', 'goal', 'value', 'priorities', 'special', 'importance', 'unity', 'research', 'teaching', 'foundation', 'activities', 'faculty', 'economic']\n",
            "\n",
            "Frequencies\n",
            "[3, 3, 1, 2, 2, 1, 1, 1, 1, 2, 1, 2, 2, 1, 1, 2, 1, 1, 1, 1, 1, 3, 3, 1, 1, 1, 1, 1, 1, 1, 1, 1, 1, 1, 1, 3, 3]\n",
            "\n",
            "Pairs\n",
            "[('faculty', 3), ('economic', 3), ('independent', 1), ('university', 2), ('warsaw', 2), ('commitment', 1), ('goals', 1), ('values', 1), ('specified', 1), ('mission', 2), ('statement', 1), ('university', 2), ('warsaw', 2), ('regard', 1), ('way', 1), ('mission', 2), ('alma', 1), ('mater', 1), ('refers', 1), ('discipline', 1), ('represented', 1), ('faculty', 3), ('economic', 3), ('define', 1), ('following', 1), ('goal', 1), ('value', 1), ('priorities', 1), ('special', 1), ('importance', 1), ('unity', 1), ('research', 1), ('teaching', 1), ('foundation', 1), ('activities', 1), ('faculty', 3), ('economic', 3)]\n"
          ]
        }
      ]
    }
  ]
}